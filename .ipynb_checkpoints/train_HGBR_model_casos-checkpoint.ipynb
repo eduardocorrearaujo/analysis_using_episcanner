{
 "cells": [
  {
   "cell_type": "markdown",
   "id": "8d4eabef-92ee-4ebf-b0dc-44201a6012e4",
   "metadata": {},
   "source": [
    "In this notebook the HGBR model is trained an the Figures 7 and 8 of the paper are created. "
   ]
  },
  {
   "cell_type": "code",
   "execution_count": 1,
   "id": "bb40b227-1780-4d62-8ae0-2a3dd6a2715b",
   "metadata": {},
   "outputs": [],
   "source": [
    "import warnings\n",
    "warnings.filterwarnings(\"ignore\")"
   ]
  },
  {
   "cell_type": "code",
   "execution_count": 2,
   "id": "340bc8a5-fe04-4ebb-b5a5-6dfc5eca15f6",
   "metadata": {},
   "outputs": [],
   "source": [
    "import shap\n",
    "import joblib\n",
    "import numpy as np\n",
    "import pandas as pd\n",
    "import matplotlib.gridspec as gridspec\n",
    "from matplotlib.offsetbox import AnchoredText\n",
    "from sklearn.preprocessing import StandardScaler\n",
    "\n",
    "import matplotlib.pyplot as plt\n",
    "from sklearn.metrics import r2_score\n",
    "from sklearn.metrics import mean_squared_error as mse\n",
    "\n",
    "from utils import get_train_test, get_train_for, plot_preds "
   ]
  },
  {
   "cell_type": "code",
   "execution_count": 3,
   "id": "530aa24e-6d0f-45e7-9984-800e1401a00e",
   "metadata": {},
   "outputs": [],
   "source": [
    "plt.rcParams['font.size'] = 12"
   ]
  },
  {
   "cell_type": "code",
   "execution_count": 4,
   "id": "2d2aeff7-5412-47c7-9190-09c7aef8e4db",
   "metadata": {},
   "outputs": [],
   "source": [
    "## Histogram Gradient Boosting regression\n",
    "from sklearn.model_selection import GridSearchCV, KFold\n",
    "from sklearn.ensemble import HistGradientBoostingRegressor\n",
    "\n",
    "param = {\"max_iter\": [10, 20, 50, 100, 300, 500],\n",
    "         \"loss\": ['loss','gamma','poisson', 'quantile'],\n",
    "          #\"l2_regularization\":[0.0, 0.05, 0.1]\n",
    "        }\n",
    "\n",
    "cv = KFold(n_splits=4, shuffle=True, random_state=0)"
   ]
  },
  {
   "cell_type": "code",
   "execution_count": 5,
   "id": "578f4fec-9ff6-4490-bd3a-30773af192e8",
   "metadata": {},
   "outputs": [],
   "source": [
    "dict_label = {'sud': 'Southeast', 'ceo': 'Midwest', 'sul': 'South', 'ne':'North East', 'no':'North'} \n"
   ]
  },
  {
   "cell_type": "markdown",
   "id": "6d223bd7-8a01-4c6c-bb9d-c9f6c61bd61a",
   "metadata": {},
   "source": [
    "### Train model\n",
    "\n",
    "The model will be trained using the data up to 2023 to predict the cases in 2024. Define the set of predictors that will be used below:"
   ]
  },
  {
   "cell_type": "code",
   "execution_count": 6,
   "id": "3d43f0fb-2f75-4f8a-83e9-17e033b5a0bd",
   "metadata": {},
   "outputs": [],
   "source": [
    "predictors = [\n",
    "'year',\n",
    "'casos_1_1',\n",
    "'casos_1_2',\n",
    "'populacao_1',\n",
    "'peak_week_1',\n",
    "'R0_1',\n",
    "'ep_end_1', \n",
    "'ep_dur_1',\n",
    "'dummy_ep',      \n",
    "'temp_med_2',\n",
    "'temp_amp_2',\n",
    "'temp_max_2',\n",
    "'temp_min_2', \n",
    "'umid_min_2',\n",
    "'umid_max_2', 'umid_amp_2', 'enso_2',\n",
    "'precip_tot_2', 'rainy_day_2', 'thr_temp_min_2', 'thr_temp_amp_2', 'thr_umid_med_2',      \n",
    "'latitude', 'longitude']\n"
   ]
  },
  {
   "cell_type": "markdown",
   "id": "04fd2ba4-d2bc-4f97-a8ca-95c4378caeee",
   "metadata": {},
   "source": [
    "In the cell below, there is not applied any filter. To train the model using only cities that had an epidemic in the last year is necessary to add, after loading the dataset, the line of the cell below: \n",
    "\n",
    "```df = df.loc[df.R0_1 > 1]```\n",
    "\n",
    "The same can be done to filter based on other predictors. \n",
    "\n",
    "To train the model using the data from a specific state use:\n",
    "```df = df.loc[df.uf == 'PR']```\n",
    "\n",
    "Just remember to apply the filter when calling the data in the cell to train the model using the 2024 data and when making the forecast. "
   ]
  },
  {
   "cell_type": "code",
   "execution_count": 7,
   "id": "9171f9c9-04c2-4fb7-be54-20d54dd1eff0",
   "metadata": {},
   "outputs": [
    {
     "name": "stdout",
     "output_type": "stream",
     "text": [
      "CPU times: user 39.3 s, sys: 1min 5s, total: 1min 44s\n",
      "Wall time: 1min 16s\n"
     ]
    }
   ],
   "source": [
    "%%time \n",
    "\n",
    "i = 0\n",
    "\n",
    "region = 'sul'\n",
    "#for region in ['no', 'sud', 'ne', 'ceo', 'sul']: \n",
    "df =  pd.read_csv(f'data/features_casos_{region}.csv.gz', index_col = 'Unnamed: 0')\n",
    "\n",
    "X_train, y_train, X_test, y_test = get_train_test(df, target = 'casos', test_year = 2024, predictors = predictors)\n",
    "    \n",
    "sc_x = StandardScaler()\n",
    "    \n",
    "sc_x.fit(X_train)\n",
    "       \n",
    "X_train_ = sc_x.transform(X_train)\n",
    "X_train_ = pd.DataFrame(X_train_, columns = X_train.columns)\n",
    "\n",
    "X_test_ = sc_x.transform(X_test)\n",
    "\n",
    "hgbm = HistGradientBoostingRegressor(l2_regularization = 0.2)\n",
    "    \n",
    "grid_search = GridSearchCV(\n",
    "            estimator=hgbm,\n",
    "            param_grid=param,\n",
    "            return_train_score=True,\n",
    "            cv=cv,\n",
    "        ).fit(X_train_, y_train)\n",
    "\n",
    "pred_tr = grid_search.best_estimator_.predict(X_train_)\n",
    "\n",
    "pred_te = grid_search.best_estimator_.predict(X_test_)\n"
   ]
  },
  {
   "cell_type": "code",
   "execution_count": 8,
   "id": "9896fd32-fe0b-4d09-86c7-580ef23ae79e",
   "metadata": {},
   "outputs": [
    {
     "data": {
      "text/plain": [
       "(2708, 24)"
      ]
     },
     "execution_count": 8,
     "metadata": {},
     "output_type": "execute_result"
    }
   ],
   "source": [
    "X_train.shape"
   ]
  },
  {
   "cell_type": "code",
   "execution_count": 9,
   "id": "05dbe963-cdf4-487e-b2f0-fdb5d07fe2ea",
   "metadata": {},
   "outputs": [
    {
     "data": {
      "text/plain": [
       "(781, 24)"
      ]
     },
     "execution_count": 9,
     "metadata": {},
     "output_type": "execute_result"
    }
   ],
   "source": [
    "X_test.shape"
   ]
  },
  {
   "cell_type": "markdown",
   "id": "7157de55-c4e6-4997-81cc-931796e9d290",
   "metadata": {},
   "source": [
    "#### Plot the train and test "
   ]
  },
  {
   "cell_type": "code",
   "execution_count": 10,
   "id": "95f8b300-2628-4d99-914f-255d437aa87a",
   "metadata": {},
   "outputs": [
    {
     "data": {
      "image/png": "[encoded data removed]",
      "text/plain": [
       "<Figure size 1200x400 with 2 Axes>"
      ]
     },
     "metadata": {},
     "output_type": "display_data"
    }
   ],
   "source": [
    "fig,ax = plt.subplots(1, 2, figsize = (12, 4))\n",
    "\n",
    "dft_train = pd.DataFrame()\n",
    "    \n",
    "dft_train['target'] = np.exp(y_train)\n",
    "\n",
    "dft_train['pred'] = np.exp(pred_tr)\n",
    "\n",
    "plot_preds(ax[0], dft_train, None, bounds = np.arange(min(dft_train['target']), max(dft_train['target'])))\n",
    "\n",
    "res = dft_train['target'] - dft_train['pred']\n",
    "\n",
    "m_train = f'''R2: {round(r2_score(dft_train['target'],dft_train['pred']), 2)} \\nRMSE: { round(mse(dft_train['target'], dft_train['pred'] , squared = False),2)}'''\n",
    "\n",
    "ax[0].set_title(f\"\"\"Train - {dict_label[region]}\"\"\") \n",
    "\n",
    "at = AnchoredText(m_train,\n",
    "                 prop=dict(size=10), frameon=True,\n",
    "                  loc=4,\n",
    "                  )\n",
    "at.patch.set_boxstyle(\"round,pad=0.,rounding_size=0.2\")\n",
    "\n",
    "ax[0].add_artist(at)\n",
    "\n",
    "\n",
    "dft_test = pd.DataFrame()\n",
    "    \n",
    "dft_test['target'] = np.exp(y_test)\n",
    "\n",
    "dft_test['pred'] = np.exp(pred_te)\n",
    "\n",
    "plot_preds(ax[1], dft_test, None, bounds = np.arange(min(dft_test['target']), max(dft_test['target'])))\n",
    "\n",
    "res = dft_test['target'] - dft_test['pred']\n",
    "\n",
    "m_train = f'''R2: {round(r2_score(dft_test['target'],dft_test['pred']), 2)} \\nRMSE: { round(mse(dft_test['target'], dft_test['pred'] , squared = False),2)}'''\n",
    "\n",
    "ax[1].set_title(f\"\"\"Test - {dict_label[region]}\"\"\") \n",
    "\n",
    "at = AnchoredText(m_train,\n",
    "                 prop=dict(size=10), frameon=True,\n",
    "                  loc=4,\n",
    "                  )\n",
    "at.patch.set_boxstyle(\"round,pad=0.,rounding_size=0.2\")\n",
    "\n",
    "ax[1].add_artist(at)\n",
    "\n",
    "plt.subplots_adjust(wspace = 0.3)\n",
    "\n",
    "\n",
    "\n",
    "plt.show()"
   ]
  },
  {
   "cell_type": "markdown",
   "id": "ad855cfe-0883-467e-b58c-170a8b1f8adc",
   "metadata": {},
   "source": [
    "### Training the model using the 2024 data: "
   ]
  },
  {
   "cell_type": "code",
   "execution_count": 11,
   "id": "33f38291-ffe7-4435-9994-aacc27445f9f",
   "metadata": {},
   "outputs": [
    {
     "name": "stdout",
     "output_type": "stream",
     "text": [
      "CPU times: user 40.2 s, sys: 1min 4s, total: 1min 44s\n",
      "Wall time: 1min 16s\n"
     ]
    }
   ],
   "source": [
    "%%time \n",
    "#for region in ['no', 'sud', 'ne', 'ceo', 'sul']: \n",
    "df =  pd.read_csv(f'data/features_casos_{region}.csv.gz', index_col = 'Unnamed: 0')\n",
    "\n",
    "X_train, y_train, X_test, y_test = get_train_test(df, target = 'casos', test_year = 2025, predictors = predictors)\n",
    "    \n",
    "sc_x = StandardScaler()\n",
    "    \n",
    "sc_x.fit(X_train)\n",
    "       \n",
    "X_train_ = sc_x.transform(X_train)\n",
    "X_train_ = pd.DataFrame(X_train_, columns = X_train.columns)\n",
    "\n",
    "\n",
    "hgbm = HistGradientBoostingRegressor(l2_regularization = 0.2)\n",
    "    \n",
    "grid_search = GridSearchCV(\n",
    "            estimator=hgbm,\n",
    "            param_grid=param,\n",
    "            return_train_score=True,\n",
    "            cv=cv,\n",
    "        ).fit(X_train_, y_train)\n"
   ]
  },
  {
   "cell_type": "markdown",
   "id": "e01cf86e-e6f4-4463-8567-4ddbbbb327ed",
   "metadata": {},
   "source": [
    "### Making the forecast for 2025: "
   ]
  },
  {
   "cell_type": "code",
   "execution_count": 12,
   "id": "4129476f-8d26-45ad-8b88-80b66c521f24",
   "metadata": {},
   "outputs": [],
   "source": [
    "df_for = pd.read_csv(f'data/features_casos_{region}_for_2025.csv.gz', index_col = 'Unnamed: 0')\n",
    "\n",
    "X = get_train_for(df_for, predictors)\n",
    "\n",
    "X_ = sc_x.transform(X)"
   ]
  },
  {
   "cell_type": "code",
   "execution_count": 14,
   "id": "a00f30ad-98ac-4ff3-a386-0926ffe17595",
   "metadata": {},
   "outputs": [
    {
     "data": {
      "text/html": [
       "<div>\n",
       "<style scoped>\n",
       "    .dataframe tbody tr th:only-of-type {\n",
       "        vertical-align: middle;\n",
       "    }\n",
       "\n",
       "    .dataframe tbody tr th {\n",
       "        vertical-align: top;\n",
       "    }\n",
       "\n",
       "    .dataframe thead th {\n",
       "        text-align: right;\n",
       "    }\n",
       "</style>\n",
       "<table border=\"1\" class=\"dataframe\">\n",
       "  <thead>\n",
       "    <tr style=\"text-align: right;\">\n",
       "      <th></th>\n",
       "      <th>geocode</th>\n",
       "      <th>preds</th>\n",
       "    </tr>\n",
       "  </thead>\n",
       "  <tbody>\n",
       "    <tr>\n",
       "      <th>0</th>\n",
       "      <td>4300034</td>\n",
       "      <td>85.271363</td>\n",
       "    </tr>\n",
       "    <tr>\n",
       "      <th>1</th>\n",
       "      <td>4300059</td>\n",
       "      <td>77.055559</td>\n",
       "    </tr>\n",
       "    <tr>\n",
       "      <th>2</th>\n",
       "      <td>4300109</td>\n",
       "      <td>203.706688</td>\n",
       "    </tr>\n",
       "    <tr>\n",
       "      <th>3</th>\n",
       "      <td>4300208</td>\n",
       "      <td>105.907421</td>\n",
       "    </tr>\n",
       "    <tr>\n",
       "      <th>4</th>\n",
       "      <td>4300307</td>\n",
       "      <td>127.844273</td>\n",
       "    </tr>\n",
       "  </tbody>\n",
       "</table>\n",
       "</div>"
      ],
      "text/plain": [
       "   geocode       preds\n",
       "0  4300034   85.271363\n",
       "1  4300059   77.055559\n",
       "2  4300109  203.706688\n",
       "3  4300208  105.907421\n",
       "4  4300307  127.844273"
      ]
     },
     "execution_count": 14,
     "metadata": {},
     "output_type": "execute_result"
    }
   ],
   "source": [
    "df_preds = pd.DataFrame()\n",
    "\n",
    "df_preds['geocode'] = df_for.geocode\n",
    "\n",
    "df_preds['preds'] =np.exp( grid_search.best_estimator_.predict(X_))\n",
    "\n",
    "df_preds.head()"
   ]
  },
  {
   "cell_type": "markdown",
   "id": "c521a31e-5f01-49f2-9f1c-db84a4f122d6",
   "metadata": {},
   "source": [
    "**Total cases for the region:**"
   ]
  },
  {
   "cell_type": "code",
   "execution_count": 15,
   "id": "37159f3c-3b22-4898-bd0d-8c15f34a5b94",
   "metadata": {},
   "outputs": [
    {
     "data": {
      "text/plain": [
       "1234582.4595110633"
      ]
     },
     "execution_count": 15,
     "metadata": {},
     "output_type": "execute_result"
    }
   ],
   "source": [
    "df_preds.preds.sum()"
   ]
  },
  {
   "cell_type": "code",
   "execution_count": null,
   "id": "e4aebe27-1cf0-41db-91d8-5384caaeb154",
   "metadata": {},
   "outputs": [],
   "source": []
  }
 ],
 "metadata": {
  "kernelspec": {
   "display_name": "Python 3 (ipykernel)",
   "language": "python",
   "name": "python3"
  },
  "language_info": {
   "codemirror_mode": {
    "name": "ipython",
    "version": 3
   },
   "file_extension": ".py",
   "mimetype": "text/x-python",
   "name": "python",
   "nbconvert_exporter": "python",
   "pygments_lexer": "ipython3",
   "version": "3.10.14"
  }
 },
 "nbformat": 4,
 "nbformat_minor": 5
}
